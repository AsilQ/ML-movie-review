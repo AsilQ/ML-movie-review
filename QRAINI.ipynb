{
  "cells": [
    {
      "attachments": {},
      "cell_type": "markdown",
      "metadata": {
        "id": "dX2uYUMpdiWP"
      },
      "source": [
        "A complete project\n",
        "\n",
        "The [`imdb_smol.tar.gz`](data/imdb_smol.tar.gz) archive (also available [in the\n",
        "repository](https://github.com/LoicGrobol/apprentissage-artificiel/blob/main/slides/06-scikit-learn/data/imdb_smol.tar.gz))\n",
        "contains 602 movie reviews as text files, divided into two classes :\n",
        "positive and negative (materialized by subfolders). Your mission is to create a\n",
        "script that :\n",
        "\n",
        "- Loads and vectors this data\n",
        "- Trains and compares classifiers on this dataset\n",
        "\n",
        "The objective is to determine which type of vectorization and model seems to be the most suitable and which\n",
        "hyperparameters to choose. "
      ]
    },
    {
      "attachments": {},
      "cell_type": "markdown",
      "metadata": {},
      "source": [
        "## Loading the neccessary libraries"
      ]
    },
    {
      "cell_type": "code",
      "execution_count": 2,
      "metadata": {
        "colab": {
          "base_uri": "https://localhost:8080/"
        },
        "id": "SskjZENvdkYH",
        "outputId": "05f9d920-52c2-4903-e0e9-802c40650bd0",
        "vscode": {
          "languageId": "python"
        }
      },
      "outputs": [
        {
          "name": "stderr",
          "output_type": "stream",
          "text": [
            "[nltk_data] Downloading package stopwords to /home/asilq/nltk_data...\n",
            "[nltk_data]   Package stopwords is already up-to-date!\n",
            "[nltk_data] Downloading package punkt to /home/asilq/nltk_data...\n",
            "[nltk_data]   Package punkt is already up-to-date!\n"
          ]
        }
      ],
      "source": [
        "import os\n",
        "import nltk\n",
        "import string\n",
        "import re\n",
        "import pandas as pd\n",
        "import numpy as np\n",
        "from sklearn import metrics\n",
        "from nltk.tokenize import word_tokenize\n",
        "from nltk.corpus import stopwords\n",
        "from collections import defaultdict\n",
        "from sklearn.metrics import accuracy_score\n",
        "from sklearn.svm import SVC \n",
        "from sklearn.tree import DecisionTreeClassifier \n",
        "from sklearn.ensemble import RandomForestClassifier\n",
        "from sklearn.feature_extraction.text import TfidfVectorizer\n",
        "from sklearn.linear_model import LogisticRegression \n",
        "from sklearn.preprocessing import OneHotEncoder\n",
        "from sklearn.naive_bayes import GaussianNB\n",
        "from sklearn.model_selection import train_test_split\n",
        "from sklearn.model_selection import cross_val_score\n",
        "from tqdm.notebook import tqdm\n",
        "tqdm.pandas()\n",
        "\n",
        "# Set seed\n",
        "np.random.seed(500)\n",
        "\n",
        "# Package specific installs\n",
        "nltk.download('stopwords')\n",
        "nltk.download('punkt')\n",
        "\n",
        "# CONSTANTS\n",
        "LANG = 'english' # change for model to work on other languages (may still need to update nltk and spacy_sentence_bert)"
      ]
    },
    {
      "cell_type": "code",
      "execution_count": 3,
      "metadata": {
        "colab": {
          "base_uri": "https://localhost:8080/"
        },
        "id": "Mu0nQnUGeI0_",
        "outputId": "419e983d-2694-4695-a325-96ea58c7ca59",
        "vscode": {
          "languageId": "python"
        }
      },
      "outputs": [
        {
          "name": "stdout",
          "output_type": "stream",
          "text": [
            "                                                Review Sentiment\n",
            "0    I could never stand watching Happy Days after ...       neg\n",
            "1    1st watched 8/3/2003 - 2 out of 10(Dir-Brad Sy...       neg\n",
            "2    This is the biggest insult to TMNT ever. Fortu...       neg\n",
            "3    I have always admired Susan Sarandon for her i...       neg\n",
            "4    There's not a drop of sunshine in \"The Sunshin...       neg\n",
            "..                                                 ...       ...\n",
            "597  \"Convicts\" is very much a third act sort of fi...       pos\n",
            "598  Don't listen to fuddy-duddy critics on this on...       pos\n",
            "599  Sublimity is the way we have to reach for The ...       pos\n",
            "600  <br /><br />One of the best films I've ever se...       pos\n",
            "601  'Stanley and Iris' show the triumph of the hum...       pos\n",
            "\n",
            "[602 rows x 2 columns]\n"
          ]
        }
      ],
      "source": [
        "import os\n",
        "import pandas as pd\n",
        "from collections import defaultdict\n",
        "\n",
        "#Reading the contents of files in the directories specified in the path list and storing the contents and their corresponding sentiments in a defaultdict called data\n",
        "text = defaultdict(list)\n",
        "path = [\"/home/asilq/Documents/M2_TAL_NANTERRE/Part 1/Apprentissage_automatique/imdb_smol/neg\", \"/home/asilq/Documents/M2_TAL_NANTERRE/Part 1/Apprentissage_automatique/imdb_smol/pos\"]\n",
        "\n",
        "\n",
        "#The defaultdict has two keys, \"Review\" and \"Sentiment\", which store the contents of the files and their sentiments, respectively.\n",
        "\n",
        "#For loop iterates over the paths in the path list\n",
        "for i in path:\n",
        "    for filename in os.listdir(i):\n",
        "        with open(os.path.join(i, filename), 'r') as f:\n",
        "            text[\"Review\"].append(f.read())         #opens the file, reads its contents, and appends the contents to the \"Review\"\n",
        "            if i == path[0]:\n",
        "                text[\"Sentiment\"].append(\"neg\")     #appends the corresponding sentiment (\"neg\" or \"pos\") to the \"Sentiment\" key of the defaultdict.\n",
        "            else:\n",
        "                text[\"Sentiment\"].append(\"pos\")\n",
        "\n",
        "data_set= pd.DataFrame(text)        #Creating a dataframe from the defaultdict\n",
        "print(data_set)"
      ]
    },
    {
      "cell_type": "code",
      "execution_count": 6,
      "metadata": {
        "colab": {
          "base_uri": "https://localhost:8080/"
        },
        "id": "3B9vw57SjEnq",
        "outputId": "9397df3b-0311-42f7-ef63-dc1b3e2cf209",
        "vscode": {
          "languageId": "python"
        }
      },
      "outputs": [
        {
          "name": "stdout",
          "output_type": "stream",
          "text": [
            "                                                Review Sentiment\n",
            "0    could never stand watching happy days chachi j...       neg\n",
            "1    st watched dirbrad sykes mindless movie fleshe...       neg\n",
            "2    biggest insult tmnt ever fortunantely official...       neg\n",
            "3    always admired susan sarandon integrity honest...       neg\n",
            "4    theres drop sunshine sunshine boys makes title...       neg\n",
            "..                                                 ...       ...\n",
            "597  convicts much third act sort film dialogue cha...       pos\n",
            "598  dont listen fuddyduddy critics one gem young r...       pos\n",
            "599  sublimity way reach beauty sublimity stuff fil...       pos\n",
            "600  br br one best films ive ever seen robert duva...       pos\n",
            "601  stanley iris show triumph human spirit stanley...       pos\n",
            "\n",
            "[602 rows x 2 columns]\n"
          ]
        }
      ],
      "source": [
        "#cleaning the data\n",
        "\n",
        "def clean_text(text):\n",
        "    # Remove punctuation\n",
        "    text = text.translate(str.maketrans(\"\", \"\", string.punctuation))\n",
        "\n",
        "    # Remove numbers\n",
        "    text = re.sub(r\"\\d+\", \"\", text)\n",
        "\n",
        "    # Convert to lowercase\n",
        "    text = text.lower()\n",
        "\n",
        "    # Remove stop words\n",
        "    stop_words = set(stopwords.words(\"english\"))\n",
        "    text = \" \".join([word for word in text.split() if word not in stop_words])\n",
        "\n",
        "    return text\n",
        "\n",
        "data_set[\"Review\"] = data_set[\"Review\"].apply(clean_text)\n",
        "\n",
        "print(data_set) "
      ]
    },
    {
      "cell_type": "code",
      "execution_count": 8,
      "metadata": {
        "colab": {
          "base_uri": "https://localhost:8080/"
        },
        "id": "acxFT-63g-9R",
        "outputId": "3cb06517-a515-4327-e1b7-c043cf85731d",
        "vscode": {
          "languageId": "python"
        }
      },
      "outputs": [
        {
          "name": "stdout",
          "output_type": "stream",
          "text": [
            "(602, 2)\n"
          ]
        }
      ],
      "source": [
        "#dataframe shape : rows and columns\n",
        "print(data_set.shape)"
      ]
    },
    {
      "cell_type": "code",
      "execution_count": 10,
      "metadata": {
        "id": "RDz7Y-y8d7ZG",
        "vscode": {
          "languageId": "python"
        }
      },
      "outputs": [],
      "source": [
        "#assigning the heads\n",
        "X = data_set['Review']\n",
        "y = data_set['Sentiment']"
      ]
    },
    {
      "cell_type": "code",
      "execution_count": 11,
      "metadata": {
        "id": "q7v9k6SYfA4B",
        "vscode": {
          "languageId": "python"
        }
      },
      "outputs": [],
      "source": [
        "# using the train test split function to split the data\n",
        "X_train, X_test, y_train, y_test = train_test_split(\n",
        "  X, y , random_state=104,test_size=0.25, shuffle=True)"
      ]
    },
    {
      "cell_type": "code",
      "execution_count": 12,
      "metadata": {
        "colab": {
          "base_uri": "https://localhost:8080/"
        },
        "id": "GhVv2ryBhAyj",
        "outputId": "cfa37ad8-5d4a-4b64-f0dc-9652df6793e0",
        "vscode": {
          "languageId": "python"
        }
      },
      "outputs": [
        {
          "name": "stdout",
          "output_type": "stream",
          "text": [
            "X_train : \n",
            "47     good thing movie shot goldie hawn standing lit...\n",
            "81     saw dvd friends house thought turkish action m...\n",
            "273    absolutely incredible anyone could make commen...\n",
            "448    bogdonovichs mostly unheralded classic film un...\n",
            "360    someone release movie dvd take hallowed place ...\n",
            "Name: Review, dtype: object\n",
            "(451,)\n",
            "\n",
            "X_test : \n",
            "169    thats sound bees thats effect induced watching...\n",
            "546    heres yet another piece evidence claim worship...\n",
            "566    storyline max von sydows voiceover narration h...\n",
            "547    busy phillips put one hell performance comedic...\n",
            "381    todays world digital fabrication computer repl...\n",
            "Name: Review, dtype: object\n",
            "(151,)\n",
            "\n",
            "y_train : \n",
            "47     neg\n",
            "81     neg\n",
            "273    neg\n",
            "448    pos\n",
            "360    pos\n",
            "Name: Sentiment, dtype: object\n",
            "(451,)\n",
            "\n",
            "y_test : \n",
            "169    neg\n",
            "546    pos\n",
            "566    pos\n",
            "547    pos\n",
            "381    pos\n",
            "Name: Sentiment, dtype: object\n",
            "(151,)\n"
          ]
        }
      ],
      "source": [
        "# visualising the split of the data\n",
        "print('X_train : ')\n",
        "print(X_train.head())\n",
        "print(X_train.shape)\n",
        "\n",
        "print('')\n",
        "print('X_test : ')\n",
        "print(X_test.head())\n",
        "print(X_test.shape)\n",
        " \n",
        "print('')\n",
        "print('y_train : ')\n",
        "print(y_train.head())\n",
        "print(y_train.shape)\n",
        " \n",
        "print('')\n",
        "print('y_test : ')\n",
        "print(y_test.head())\n",
        "print(y_test.shape)"
      ]
    },
    {
      "cell_type": "code",
      "execution_count": 13,
      "metadata": {
        "colab": {
          "base_uri": "https://localhost:8080/"
        },
        "id": "kCLeloHGhqZG",
        "outputId": "e798ac40-7c9b-4c5d-e507-d82126443a0d",
        "vscode": {
          "languageId": "python"
        }
      },
      "outputs": [
        {
          "name": "stdout",
          "output_type": "stream",
          "text": [
            "                                               x_train y_train\n",
            "47   good thing movie shot goldie hawn standing lit...     neg\n",
            "81   saw dvd friends house thought turkish action m...     neg\n",
            "273  absolutely incredible anyone could make commen...     neg\n",
            "448  bogdonovichs mostly unheralded classic film un...     pos\n",
            "360  someone release movie dvd take hallowed place ...     pos\n",
            "                                                x_test y_test\n",
            "169  thats sound bees thats effect induced watching...    neg\n",
            "546  heres yet another piece evidence claim worship...    pos\n",
            "566  storyline max von sydows voiceover narration h...    pos\n",
            "547  busy phillips put one hell performance comedic...    pos\n",
            "381  todays world digital fabrication computer repl...    pos\n"
          ]
        }
      ],
      "source": [
        "# the cleaned dataframe \n",
        "train_df = pd.DataFrame(data={\"x_train\":X_train, \"y_train\":y_train})\n",
        "test_df = pd.DataFrame(data={\"x_test\":X_test, \"y_test\":y_test})\n",
        "print(train_df.head())\n",
        "print(test_df.head())"
      ]
    },
    {
      "attachments": {},
      "cell_type": "markdown",
      "metadata": {},
      "source": [
        " ## Conducting some EDA"
      ]
    },
    {
      "cell_type": "code",
      "execution_count": 14,
      "metadata": {
        "colab": {
          "base_uri": "https://localhost:8080/",
          "height": 317
        },
        "id": "L9OF2ybxh3Ip",
        "outputId": "b1ccc235-e6e7-4501-eb4a-c313d1cc7879",
        "vscode": {
          "languageId": "python"
        }
      },
      "outputs": [
        {
          "data": {
            "text/plain": [
              "<AxesSubplot: >"
            ]
          },
          "execution_count": 14,
          "metadata": {},
          "output_type": "execute_result"
        },
        {
          "data": {
            "image/png": "[encoded data removed]",
            "text/plain": [
              "<Figure size 640x480 with 1 Axes>"
            ]
          },
          "metadata": {},
          "output_type": "display_data"
        }
      ],
      "source": [
        "#pos and negs at the y_train data\n",
        "train_df['y_train'].value_counts().plot.bar()"
      ]
    },
    {
      "cell_type": "code",
      "execution_count": 15,
      "metadata": {
        "colab": {
          "base_uri": "https://localhost:8080/",
          "height": 317
        },
        "id": "8UjsN2eRh-_H",
        "outputId": "7c6ee535-9261-4506-a653-5b11dd986ede",
        "vscode": {
          "languageId": "python"
        }
      },
      "outputs": [
        {
          "data": {
            "text/plain": [
              "<AxesSubplot: >"
            ]
          },
          "execution_count": 15,
          "metadata": {},
          "output_type": "execute_result"
        },
        {
          "data": {
            "image/png": "[encoded data removed]",
            "text/plain": [
              "<Figure size 640x480 with 1 Axes>"
            ]
          },
          "metadata": {},
          "output_type": "display_data"
        }
      ],
      "source": [
        "#pos and negs at the y_test data\n",
        "test_df['y_test'].value_counts().plot.bar()"
      ]
    },
    {
      "cell_type": "code",
      "execution_count": 16,
      "metadata": {
        "colab": {
          "base_uri": "https://localhost:8080/",
          "height": 81,
          "referenced_widgets": [
            "861807698a9a47ee8a283ce0270d8f8a",
            "3c1f1aaa8fd04cce91dd30997d238415",
            "6baa08657c3741a59e89dac1d472c685",
            "80f07c0624ab47d7bf12ee88beb23c97",
            "ee451f3869154ed7a3350c998424693d",
            "52b2a5a8f32e4bea8e22af9233d68b05",
            "f10fdf71eeaa4a6a98c91438c26a5d16",
            "2320a3e0fbaa47fc971447acd382ae4f",
            "ad58dd1599484f848f825489677a7d27",
            "60164298d0084edabfeaca6ab9e82e16",
            "2240592eba804bef8113425345c3b1c6",
            "810ae464206c4d2cb9d51bf37ab0ed87",
            "f8c9315014d44043a326eb1d63d129b2",
            "0abd8656147d4210984fa6943cdec016",
            "3fb4ab86f1444406a17d92471d795fe4",
            "2abd9566f3994dd7834806a3c1a3ff62",
            "8aa26373878b4b1ca0698ffb8b6f5361",
            "8b5c4001811a478997eff9ae6915491e",
            "42e575e9243d4cc684a0c09daafec26a",
            "da8ef1af465b464984e7aed74e37ade8",
            "217d4ae1e38749e78d0bb96f2464aa8d",
            "49ff4cc13a0d4d0ea8dc3c5920719534"
          ]
        },
        "id": "r6n7VonyiA8_",
        "outputId": "d1c72330-c8ba-4c7f-cfa0-bd81ce234e67",
        "vscode": {
          "languageId": "python"
        }
      },
      "outputs": [
        {
          "data": {
            "application/vnd.jupyter.widget-view+json": {
              "model_id": "c67248404c7c4a94b2c0ecb7c1c332c9",
              "version_major": 2,
              "version_minor": 0
            },
            "text/plain": [
              "  0%|          | 0/451 [00:00<?, ?it/s]"
            ]
          },
          "metadata": {},
          "output_type": "display_data"
        },
        {
          "data": {
            "application/vnd.jupyter.widget-view+json": {
              "model_id": "2f127654e0ab48c79fd16c559d4366a6",
              "version_major": 2,
              "version_minor": 0
            },
            "text/plain": [
              "  0%|          | 0/151 [00:00<?, ?it/s]"
            ]
          },
          "metadata": {},
          "output_type": "display_data"
        }
      ],
      "source": [
        "# shuffle the DataFrame rows\n",
        "train_df = train_df.sample(frac = 1)\n",
        "test_df = test_df.sample(frac = 1)\n",
        "# Drop Na\n",
        "train_df = train_df.dropna()\n",
        "test_df = test_df.dropna()\n",
        "\n",
        "# Tokenize via vectorization\n",
        "train_df[\"x_train_tokens\"] = train_df[\"x_train\"].apply(word_tokenize)\n",
        "test_df[\"x_test_tokens\"] =   test_df[\"x_test\"].apply(word_tokenize)\n",
        "\n",
        "# Remove stop words\n",
        "def remove_stop_words(tokens):\n",
        "  for token in tokens:\n",
        "      if token in stopwords.words(LANG):\n",
        "          tokens.remove(token)\n",
        "  return tokens\n",
        "train_df[\"x_train_cleaned\"] = train_df[\"x_train_tokens\"].progress_apply(remove_stop_words)\n",
        "test_df[\"x_test_cleaned\"] = test_df[\"x_test_tokens\"].progress_apply(remove_stop_words)"
      ]
    },
    {
      "attachments": {},
      "cell_type": "markdown",
      "metadata": {},
      "source": [
        "## Let's inspect our cleaned dataset and vectorize using a transformer."
      ]
    },
    {
      "cell_type": "code",
      "execution_count": 17,
      "metadata": {
        "colab": {
          "base_uri": "https://localhost:8080/",
          "height": 206
        },
        "id": "GH8475s1iNnj",
        "outputId": "0c5f3cb4-bea6-4e72-fa04-4258f7273f86",
        "vscode": {
          "languageId": "python"
        }
      },
      "outputs": [
        {
          "data": {
            "text/html": [
              "<div>\n",
              "<style scoped>\n",
              "    .dataframe tbody tr th:only-of-type {\n",
              "        vertical-align: middle;\n",
              "    }\n",
              "\n",
              "    .dataframe tbody tr th {\n",
              "        vertical-align: top;\n",
              "    }\n",
              "\n",
              "    .dataframe thead th {\n",
              "        text-align: right;\n",
              "    }\n",
              "</style>\n",
              "<table border=\"1\" class=\"dataframe\">\n",
              "  <thead>\n",
              "    <tr style=\"text-align: right;\">\n",
              "      <th></th>\n",
              "      <th>x_train</th>\n",
              "      <th>y_train</th>\n",
              "      <th>x_train_tokens</th>\n",
              "      <th>x_train_cleaned</th>\n",
              "    </tr>\n",
              "  </thead>\n",
              "  <tbody>\n",
              "    <tr>\n",
              "      <th>281</th>\n",
              "      <td>burt kennedy used good director youd never kno...</td>\n",
              "      <td>neg</td>\n",
              "      <td>[burt, kennedy, used, good, director, youd, ne...</td>\n",
              "      <td>[burt, kennedy, used, good, director, youd, ne...</td>\n",
              "    </tr>\n",
              "    <tr>\n",
              "      <th>272</th>\n",
              "      <td>original book set wont tv series people watch ...</td>\n",
              "      <td>neg</td>\n",
              "      <td>[original, book, set, wont, tv, series, people...</td>\n",
              "      <td>[original, book, set, wont, tv, series, people...</td>\n",
              "    </tr>\n",
              "    <tr>\n",
              "      <th>593</th>\n",
              "      <td>hickory dickory dock good poirot mystery confe...</td>\n",
              "      <td>pos</td>\n",
              "      <td>[hickory, dickory, dock, good, poirot, mystery...</td>\n",
              "      <td>[hickory, dickory, dock, good, poirot, mystery...</td>\n",
              "    </tr>\n",
              "    <tr>\n",
              "      <th>404</th>\n",
              "      <td>scott bartletts offon nine minutes pure crazin...</td>\n",
              "      <td>pos</td>\n",
              "      <td>[scott, bartletts, offon, nine, minutes, pure,...</td>\n",
              "      <td>[scott, bartletts, offon, nine, minutes, pure,...</td>\n",
              "    </tr>\n",
              "    <tr>\n",
              "      <th>11</th>\n",
              "      <td>robert taylor definitely showed fine dramatic ...</td>\n",
              "      <td>neg</td>\n",
              "      <td>[robert, taylor, definitely, showed, fine, dra...</td>\n",
              "      <td>[robert, taylor, definitely, showed, fine, dra...</td>\n",
              "    </tr>\n",
              "  </tbody>\n",
              "</table>\n",
              "</div>"
            ],
            "text/plain": [
              "                                               x_train y_train  \\\n",
              "281  burt kennedy used good director youd never kno...     neg   \n",
              "272  original book set wont tv series people watch ...     neg   \n",
              "593  hickory dickory dock good poirot mystery confe...     pos   \n",
              "404  scott bartletts offon nine minutes pure crazin...     pos   \n",
              "11   robert taylor definitely showed fine dramatic ...     neg   \n",
              "\n",
              "                                        x_train_tokens  \\\n",
              "281  [burt, kennedy, used, good, director, youd, ne...   \n",
              "272  [original, book, set, wont, tv, series, people...   \n",
              "593  [hickory, dickory, dock, good, poirot, mystery...   \n",
              "404  [scott, bartletts, offon, nine, minutes, pure,...   \n",
              "11   [robert, taylor, definitely, showed, fine, dra...   \n",
              "\n",
              "                                       x_train_cleaned  \n",
              "281  [burt, kennedy, used, good, director, youd, ne...  \n",
              "272  [original, book, set, wont, tv, series, people...  \n",
              "593  [hickory, dickory, dock, good, poirot, mystery...  \n",
              "404  [scott, bartletts, offon, nine, minutes, pure,...  \n",
              "11   [robert, taylor, definitely, showed, fine, dra...  "
            ]
          },
          "execution_count": 17,
          "metadata": {},
          "output_type": "execute_result"
        }
      ],
      "source": [
        "#visualising the train dataframe\n",
        "train_df.head()"
      ]
    },
    {
      "cell_type": "code",
      "execution_count": 18,
      "metadata": {
        "colab": {
          "base_uri": "https://localhost:8080/",
          "height": 206
        },
        "id": "yIbe_gBeitgP",
        "outputId": "c46eeffc-ab51-4573-f498-6c603214660b",
        "vscode": {
          "languageId": "python"
        }
      },
      "outputs": [
        {
          "data": {
            "text/html": [
              "<div>\n",
              "<style scoped>\n",
              "    .dataframe tbody tr th:only-of-type {\n",
              "        vertical-align: middle;\n",
              "    }\n",
              "\n",
              "    .dataframe tbody tr th {\n",
              "        vertical-align: top;\n",
              "    }\n",
              "\n",
              "    .dataframe thead th {\n",
              "        text-align: right;\n",
              "    }\n",
              "</style>\n",
              "<table border=\"1\" class=\"dataframe\">\n",
              "  <thead>\n",
              "    <tr style=\"text-align: right;\">\n",
              "      <th></th>\n",
              "      <th>x_test</th>\n",
              "      <th>y_test</th>\n",
              "      <th>x_test_tokens</th>\n",
              "      <th>x_test_cleaned</th>\n",
              "    </tr>\n",
              "  </thead>\n",
              "  <tbody>\n",
              "    <tr>\n",
              "      <th>309</th>\n",
              "      <td>wisecracker biography actor william haines off...</td>\n",
              "      <td>pos</td>\n",
              "      <td>[wisecracker, biography, actor, william, haine...</td>\n",
              "      <td>[wisecracker, biography, actor, william, haine...</td>\n",
              "    </tr>\n",
              "    <tr>\n",
              "      <th>578</th>\n",
              "      <td>actually find video game scary disturbing know...</td>\n",
              "      <td>pos</td>\n",
              "      <td>[actually, find, video, game, scary, disturbin...</td>\n",
              "      <td>[actually, find, video, game, scary, disturbin...</td>\n",
              "    </tr>\n",
              "    <tr>\n",
              "      <th>454</th>\n",
              "      <td>sunday july pm castro san franciscobr br south...</td>\n",
              "      <td>pos</td>\n",
              "      <td>[sunday, july, pm, castro, san, franciscobr, b...</td>\n",
              "      <td>[sunday, july, pm, castro, san, franciscobr, b...</td>\n",
              "    </tr>\n",
              "    <tr>\n",
              "      <th>123</th>\n",
              "      <td>times finishing film one wishes refund time sp...</td>\n",
              "      <td>neg</td>\n",
              "      <td>[times, finishing, film, one, wishes, refund, ...</td>\n",
              "      <td>[times, finishing, film, one, wishes, refund, ...</td>\n",
              "    </tr>\n",
              "    <tr>\n",
              "      <th>10</th>\n",
              "      <td>movie unrelentingly bad could hardly believe w...</td>\n",
              "      <td>neg</td>\n",
              "      <td>[movie, unrelentingly, bad, could, hardly, bel...</td>\n",
              "      <td>[movie, unrelentingly, bad, could, hardly, bel...</td>\n",
              "    </tr>\n",
              "  </tbody>\n",
              "</table>\n",
              "</div>"
            ],
            "text/plain": [
              "                                                x_test y_test  \\\n",
              "309  wisecracker biography actor william haines off...    pos   \n",
              "578  actually find video game scary disturbing know...    pos   \n",
              "454  sunday july pm castro san franciscobr br south...    pos   \n",
              "123  times finishing film one wishes refund time sp...    neg   \n",
              "10   movie unrelentingly bad could hardly believe w...    neg   \n",
              "\n",
              "                                         x_test_tokens  \\\n",
              "309  [wisecracker, biography, actor, william, haine...   \n",
              "578  [actually, find, video, game, scary, disturbin...   \n",
              "454  [sunday, july, pm, castro, san, franciscobr, b...   \n",
              "123  [times, finishing, film, one, wishes, refund, ...   \n",
              "10   [movie, unrelentingly, bad, could, hardly, bel...   \n",
              "\n",
              "                                        x_test_cleaned  \n",
              "309  [wisecracker, biography, actor, william, haine...  \n",
              "578  [actually, find, video, game, scary, disturbin...  \n",
              "454  [sunday, july, pm, castro, san, franciscobr, b...  \n",
              "123  [times, finishing, film, one, wishes, refund, ...  \n",
              "10   [movie, unrelentingly, bad, could, hardly, bel...  "
            ]
          },
          "execution_count": 18,
          "metadata": {},
          "output_type": "execute_result"
        }
      ],
      "source": [
        "#visualising the test dataframe\n",
        "test_df.head()"
      ]
    },
    {
      "attachments": {},
      "cell_type": "markdown",
      "metadata": {},
      "source": [
        "## Vectorizing with transformer"
      ]
    },
    {
      "cell_type": "code",
      "execution_count": 19,
      "metadata": {
        "colab": {
          "base_uri": "https://localhost:8080/"
        },
        "id": "aBPbejPkjDpe",
        "outputId": "9038e2a9-2f68-4933-f2f5-6a648da7e73a",
        "vscode": {
          "languageId": "python"
        }
      },
      "outputs": [
        {
          "name": "stdout",
          "output_type": "stream",
          "text": [
            "Defaulting to user installation because normal site-packages is not writeable\n",
            "Requirement already satisfied: spacy_sentence_bert in /home/asilq/.local/lib/python3.10/site-packages (0.1.2)\n",
            "Requirement already satisfied: spacy<4.0.0,>=3.0.0 in /home/asilq/.local/lib/python3.10/site-packages (from spacy_sentence_bert) (3.4.4)\n",
            "Requirement already satisfied: sentence-transformers in /home/asilq/.local/lib/python3.10/site-packages (from spacy_sentence_bert) (2.2.2)\n",
            "Requirement already satisfied: protobuf in /usr/lib/python3/dist-packages (from spacy_sentence_bert) (3.12.4)\n",
            "Requirement already satisfied: preshed<3.1.0,>=3.0.2 in /home/asilq/.local/lib/python3.10/site-packages (from spacy<4.0.0,>=3.0.0->spacy_sentence_bert) (3.0.8)\n",
            "Requirement already satisfied: setuptools in /usr/lib/python3/dist-packages (from spacy<4.0.0,>=3.0.0->spacy_sentence_bert) (59.6.0)\n",
            "Requirement already satisfied: spacy-loggers<2.0.0,>=1.0.0 in /home/asilq/.local/lib/python3.10/site-packages (from spacy<4.0.0,>=3.0.0->spacy_sentence_bert) (1.0.4)\n",
            "Requirement already satisfied: spacy-legacy<3.1.0,>=3.0.10 in /home/asilq/.local/lib/python3.10/site-packages (from spacy<4.0.0,>=3.0.0->spacy_sentence_bert) (3.0.11)\n",
            "Requirement already satisfied: typer<0.8.0,>=0.3.0 in /home/asilq/.local/lib/python3.10/site-packages (from spacy<4.0.0,>=3.0.0->spacy_sentence_bert) (0.7.0)\n",
            "Requirement already satisfied: catalogue<2.1.0,>=2.0.6 in /home/asilq/.local/lib/python3.10/site-packages (from spacy<4.0.0,>=3.0.0->spacy_sentence_bert) (2.0.8)\n",
            "Requirement already satisfied: cymem<2.1.0,>=2.0.2 in /home/asilq/.local/lib/python3.10/site-packages (from spacy<4.0.0,>=3.0.0->spacy_sentence_bert) (2.0.7)\n",
            "Requirement already satisfied: srsly<3.0.0,>=2.4.3 in /home/asilq/.local/lib/python3.10/site-packages (from spacy<4.0.0,>=3.0.0->spacy_sentence_bert) (2.4.5)\n",
            "Requirement already satisfied: smart-open<7.0.0,>=5.2.1 in /home/asilq/.local/lib/python3.10/site-packages (from spacy<4.0.0,>=3.0.0->spacy_sentence_bert) (6.3.0)\n",
            "Requirement already satisfied: requests<3.0.0,>=2.13.0 in /home/asilq/.local/lib/python3.10/site-packages (from spacy<4.0.0,>=3.0.0->spacy_sentence_bert) (2.28.1)\n",
            "Requirement already satisfied: numpy>=1.15.0 in /home/asilq/.local/lib/python3.10/site-packages (from spacy<4.0.0,>=3.0.0->spacy_sentence_bert) (1.23.5)\n",
            "Requirement already satisfied: jinja2 in /home/asilq/.local/lib/python3.10/site-packages (from spacy<4.0.0,>=3.0.0->spacy_sentence_bert) (3.1.2)\n",
            "Requirement already satisfied: packaging>=20.0 in /home/asilq/.local/lib/python3.10/site-packages (from spacy<4.0.0,>=3.0.0->spacy_sentence_bert) (21.3)\n",
            "Requirement already satisfied: murmurhash<1.1.0,>=0.28.0 in /home/asilq/.local/lib/python3.10/site-packages (from spacy<4.0.0,>=3.0.0->spacy_sentence_bert) (1.0.9)\n",
            "Requirement already satisfied: langcodes<4.0.0,>=3.2.0 in /home/asilq/.local/lib/python3.10/site-packages (from spacy<4.0.0,>=3.0.0->spacy_sentence_bert) (3.3.0)\n",
            "Requirement already satisfied: pydantic!=1.8,!=1.8.1,<1.11.0,>=1.7.4 in /home/asilq/.local/lib/python3.10/site-packages (from spacy<4.0.0,>=3.0.0->spacy_sentence_bert) (1.10.4)\n",
            "Requirement already satisfied: wasabi<1.1.0,>=0.9.1 in /home/asilq/.local/lib/python3.10/site-packages (from spacy<4.0.0,>=3.0.0->spacy_sentence_bert) (0.10.1)\n",
            "Requirement already satisfied: thinc<8.2.0,>=8.1.0 in /home/asilq/.local/lib/python3.10/site-packages (from spacy<4.0.0,>=3.0.0->spacy_sentence_bert) (8.1.6)\n",
            "Requirement already satisfied: pathy>=0.3.5 in /home/asilq/.local/lib/python3.10/site-packages (from spacy<4.0.0,>=3.0.0->spacy_sentence_bert) (0.10.1)\n",
            "Requirement already satisfied: tqdm<5.0.0,>=4.38.0 in /home/asilq/.local/lib/python3.10/site-packages (from spacy<4.0.0,>=3.0.0->spacy_sentence_bert) (4.64.1)\n",
            "Requirement already satisfied: torchvision in /home/asilq/.local/lib/python3.10/site-packages (from sentence-transformers->spacy_sentence_bert) (0.14.1)\n",
            "Requirement already satisfied: transformers<5.0.0,>=4.6.0 in /home/asilq/.local/lib/python3.10/site-packages (from sentence-transformers->spacy_sentence_bert) (4.25.1)\n",
            "Requirement already satisfied: nltk in /home/asilq/.local/lib/python3.10/site-packages (from sentence-transformers->spacy_sentence_bert) (3.8.1)\n",
            "Requirement already satisfied: torch>=1.6.0 in /home/asilq/.local/lib/python3.10/site-packages (from sentence-transformers->spacy_sentence_bert) (1.13.1)\n",
            "Requirement already satisfied: sentencepiece in /home/asilq/.local/lib/python3.10/site-packages (from sentence-transformers->spacy_sentence_bert) (0.1.97)\n",
            "Requirement already satisfied: scikit-learn in /home/asilq/.local/lib/python3.10/site-packages (from sentence-transformers->spacy_sentence_bert) (1.2.0)\n",
            "Requirement already satisfied: scipy in /home/asilq/.local/lib/python3.10/site-packages (from sentence-transformers->spacy_sentence_bert) (1.9.3)\n",
            "Requirement already satisfied: huggingface-hub>=0.4.0 in /home/asilq/.local/lib/python3.10/site-packages (from sentence-transformers->spacy_sentence_bert) (0.11.1)\n",
            "Requirement already satisfied: pyyaml>=5.1 in /usr/lib/python3/dist-packages (from huggingface-hub>=0.4.0->sentence-transformers->spacy_sentence_bert) (5.4.1)\n",
            "Requirement already satisfied: typing-extensions>=3.7.4.3 in /home/asilq/.local/lib/python3.10/site-packages (from huggingface-hub>=0.4.0->sentence-transformers->spacy_sentence_bert) (4.4.0)\n",
            "Requirement already satisfied: filelock in /home/asilq/.local/lib/python3.10/site-packages (from huggingface-hub>=0.4.0->sentence-transformers->spacy_sentence_bert) (3.8.2)\n",
            "Requirement already satisfied: pyparsing!=3.0.5,>=2.0.2 in /usr/lib/python3/dist-packages (from packaging>=20.0->spacy<4.0.0,>=3.0.0->spacy_sentence_bert) (2.4.7)\n",
            "Requirement already satisfied: idna<4,>=2.5 in /usr/lib/python3/dist-packages (from requests<3.0.0,>=2.13.0->spacy<4.0.0,>=3.0.0->spacy_sentence_bert) (3.3)\n",
            "Requirement already satisfied: certifi>=2017.4.17 in /usr/lib/python3/dist-packages (from requests<3.0.0,>=2.13.0->spacy<4.0.0,>=3.0.0->spacy_sentence_bert) (2020.6.20)\n",
            "Requirement already satisfied: charset-normalizer<3,>=2 in /home/asilq/.local/lib/python3.10/site-packages (from requests<3.0.0,>=2.13.0->spacy<4.0.0,>=3.0.0->spacy_sentence_bert) (2.1.1)\n",
            "Requirement already satisfied: urllib3<1.27,>=1.21.1 in /usr/lib/python3/dist-packages (from requests<3.0.0,>=2.13.0->spacy<4.0.0,>=3.0.0->spacy_sentence_bert) (1.26.5)\n",
            "Requirement already satisfied: blis<0.8.0,>=0.7.8 in /home/asilq/.local/lib/python3.10/site-packages (from thinc<8.2.0,>=8.1.0->spacy<4.0.0,>=3.0.0->spacy_sentence_bert) (0.7.9)\n",
            "Requirement already satisfied: confection<1.0.0,>=0.0.1 in /home/asilq/.local/lib/python3.10/site-packages (from thinc<8.2.0,>=8.1.0->spacy<4.0.0,>=3.0.0->spacy_sentence_bert) (0.0.3)\n",
            "Requirement already satisfied: nvidia-cudnn-cu11==8.5.0.96 in /home/asilq/.local/lib/python3.10/site-packages (from torch>=1.6.0->sentence-transformers->spacy_sentence_bert) (8.5.0.96)\n",
            "Requirement already satisfied: nvidia-cublas-cu11==11.10.3.66 in /home/asilq/.local/lib/python3.10/site-packages (from torch>=1.6.0->sentence-transformers->spacy_sentence_bert) (11.10.3.66)\n",
            "Requirement already satisfied: nvidia-cuda-nvrtc-cu11==11.7.99 in /home/asilq/.local/lib/python3.10/site-packages (from torch>=1.6.0->sentence-transformers->spacy_sentence_bert) (11.7.99)\n",
            "Requirement already satisfied: nvidia-cuda-runtime-cu11==11.7.99 in /home/asilq/.local/lib/python3.10/site-packages (from torch>=1.6.0->sentence-transformers->spacy_sentence_bert) (11.7.99)\n",
            "Requirement already satisfied: wheel in /usr/lib/python3/dist-packages (from nvidia-cublas-cu11==11.10.3.66->torch>=1.6.0->sentence-transformers->spacy_sentence_bert) (0.37.1)\n",
            "Requirement already satisfied: tokenizers!=0.11.3,<0.14,>=0.11.1 in /home/asilq/.local/lib/python3.10/site-packages (from transformers<5.0.0,>=4.6.0->sentence-transformers->spacy_sentence_bert) (0.13.2)\n",
            "Requirement already satisfied: regex!=2019.12.17 in /home/asilq/.local/lib/python3.10/site-packages (from transformers<5.0.0,>=4.6.0->sentence-transformers->spacy_sentence_bert) (2022.10.31)\n",
            "Requirement already satisfied: click<9.0.0,>=7.1.1 in /usr/lib/python3/dist-packages (from typer<0.8.0,>=0.3.0->spacy<4.0.0,>=3.0.0->spacy_sentence_bert) (8.0.3)\n",
            "Requirement already satisfied: MarkupSafe>=2.0 in /usr/lib/python3/dist-packages (from jinja2->spacy<4.0.0,>=3.0.0->spacy_sentence_bert) (2.0.1)\n",
            "Requirement already satisfied: joblib in /home/asilq/.local/lib/python3.10/site-packages (from nltk->sentence-transformers->spacy_sentence_bert) (1.2.0)\n",
            "Requirement already satisfied: threadpoolctl>=2.0.0 in /home/asilq/.local/lib/python3.10/site-packages (from scikit-learn->sentence-transformers->spacy_sentence_bert) (3.1.0)\n",
            "Requirement already satisfied: pillow!=8.3.*,>=5.3.0 in /usr/lib/python3/dist-packages (from torchvision->sentence-transformers->spacy_sentence_bert) (9.0.1)\n"
          ]
        }
      ],
      "source": [
        "#installing bert\n",
        "!pip install spacy_sentence_bert"
      ]
    },
    {
      "cell_type": "code",
      "execution_count": 20,
      "metadata": {
        "id": "wnijPmPBi5jf",
        "vscode": {
          "languageId": "python"
        }
      },
      "outputs": [],
      "source": [
        "# loading one of the models listed at https://github.com/MartinoMensio/spacy-sentence-bert/\n",
        "import spacy_sentence_bert\n",
        "nlp = spacy_sentence_bert.load_model('en_stsb_distilbert_base')"
      ]
    },
    {
      "cell_type": "code",
      "execution_count": 21,
      "metadata": {
        "id": "hxZV2RAri_mj",
        "vscode": {
          "languageId": "python"
        }
      },
      "outputs": [],
      "source": [
        "# converting list of strings to strings, to allow for vectorization\n",
        "def list_to_string(s):\n",
        "    # initialize an empty string\n",
        "    str1 = \" \"\n",
        "    # return string \n",
        "    return (str1.join(s))\n",
        "train_df[\"x_train_final\"] = train_df[\"x_train_cleaned\"].apply(list_to_string)\n",
        "test_df[\"x_test_final\"] = test_df[\"x_test_cleaned\"].apply(list_to_string)"
      ]
    },
    {
      "cell_type": "code",
      "execution_count": 22,
      "metadata": {
        "colab": {
          "base_uri": "https://localhost:8080/",
          "height": 81,
          "referenced_widgets": [
            "7ba22cdc479c4933ba28a7965511441e",
            "af6c1eb4602b44f09576333ea169e7a2",
            "a7d9fb846f83489da8569a3d298104c5",
            "79a83f25ae464abdaed0c3524220036c",
            "b4fb4bd6a6394a1c8aa35ad0426a1508",
            "bf704802858a4e59b891e91fdbe2eb59",
            "8ef311c9fa904bd58979fd2cd9f70c06",
            "8d08afec17c04df59899caf442753d54",
            "e4ab3c459cee4dd49ca16bbe2c77a492",
            "02f08df90d7944759d5333bcbd9de347",
            "da228e275d7a46dbbd98893327f3375b",
            "716f26991bea406388424d683cfea415",
            "3fc6afb4a43346628cfc251aa488a72e",
            "0f4050bf5f634b3ba354485530185910",
            "0a0f334ab562407f9e0268fff72c2a8c",
            "70a6120ae4794ad4a4a7207fc69e9817",
            "fb5e33be033a4e38ae28d747629f631f",
            "74a2f96f087244969c0c63fd48670507",
            "327eb4b210784f54959b98c230403c0e",
            "ca677c1bfd4f4ecbbdd4559aef3aece0",
            "bbd0ae5a1428497a8f2c6ff0809cb523",
            "4afd96c46ba94b6696d95d9cddef69b1"
          ]
        },
        "id": "OBqyFExXjWf2",
        "outputId": "2ce90b0d-2d1f-4e5d-d3ba-e0c29085e229",
        "vscode": {
          "languageId": "python"
        }
      },
      "outputs": [
        {
          "data": {
            "application/vnd.jupyter.widget-view+json": {
              "model_id": "cf3e23fc5b2d40aeabadedb3c6dbaf32",
              "version_major": 2,
              "version_minor": 0
            },
            "text/plain": [
              "  0%|          | 0/451 [00:00<?, ?it/s]"
            ]
          },
          "metadata": {},
          "output_type": "display_data"
        },
        {
          "data": {
            "application/vnd.jupyter.widget-view+json": {
              "model_id": "d3e202fc34d74dc08d0077a046927084",
              "version_major": 2,
              "version_minor": 0
            },
            "text/plain": [
              "  0%|          | 0/151 [00:00<?, ?it/s]"
            ]
          },
          "metadata": {},
          "output_type": "display_data"
        }
      ],
      "source": [
        "#vectorization\n",
        "def vectorize(string):\n",
        "  return nlp(string).vector\n",
        "train_df[\"x_train_vector\"] = train_df[\"x_train_final\"].progress_apply(vectorize)\n",
        "test_df[\"x_test_vector\"] = test_df[\"x_test_final\"].progress_apply(vectorize)"
      ]
    },
    {
      "cell_type": "code",
      "execution_count": 23,
      "metadata": {
        "colab": {
          "base_uri": "https://localhost:8080/",
          "height": 392
        },
        "id": "9Rcpr1X8jYTB",
        "outputId": "8756a2c9-40ab-4039-8a14-90774af04c5e",
        "vscode": {
          "languageId": "python"
        }
      },
      "outputs": [
        {
          "name": "stdout",
          "output_type": "stream",
          "text": [
            "<class 'str'>\n",
            "could never stand watching happy days chachi joined cast knew trouble best scene movie featured scott baio skateboard chase scene jodie foster first grownup role turns usual professional performance excuse boring mess two hours life ill never get back noteworthy characters unbelievable storyline questionable editing horrendous cinematography worst couldnt cared less story california teens kids live miserable lives parents idiots dont waste time watching ugly excuse movie\n"
          ]
        },
        {
          "data": {
            "text/html": [
              "<div>\n",
              "<style scoped>\n",
              "    .dataframe tbody tr th:only-of-type {\n",
              "        vertical-align: middle;\n",
              "    }\n",
              "\n",
              "    .dataframe tbody tr th {\n",
              "        vertical-align: top;\n",
              "    }\n",
              "\n",
              "    .dataframe thead th {\n",
              "        text-align: right;\n",
              "    }\n",
              "</style>\n",
              "<table border=\"1\" class=\"dataframe\">\n",
              "  <thead>\n",
              "    <tr style=\"text-align: right;\">\n",
              "      <th></th>\n",
              "      <th>x_train</th>\n",
              "      <th>y_train</th>\n",
              "      <th>x_train_tokens</th>\n",
              "      <th>x_train_cleaned</th>\n",
              "      <th>x_train_final</th>\n",
              "      <th>x_train_vector</th>\n",
              "    </tr>\n",
              "  </thead>\n",
              "  <tbody>\n",
              "    <tr>\n",
              "      <th>281</th>\n",
              "      <td>burt kennedy used good director youd never kno...</td>\n",
              "      <td>neg</td>\n",
              "      <td>[burt, kennedy, used, good, director, youd, ne...</td>\n",
              "      <td>[burt, kennedy, used, good, director, youd, ne...</td>\n",
              "      <td>burt kennedy used good director youd never kno...</td>\n",
              "      <td>[0.15240386, 0.7326652, 0.44287255, 0.38291657...</td>\n",
              "    </tr>\n",
              "    <tr>\n",
              "      <th>272</th>\n",
              "      <td>original book set wont tv series people watch ...</td>\n",
              "      <td>neg</td>\n",
              "      <td>[original, book, set, wont, tv, series, people...</td>\n",
              "      <td>[original, book, set, wont, tv, series, people...</td>\n",
              "      <td>original book set wont tv series people watch ...</td>\n",
              "      <td>[0.7885823, 0.020227723, 0.15656038, 0.0843183...</td>\n",
              "    </tr>\n",
              "    <tr>\n",
              "      <th>593</th>\n",
              "      <td>hickory dickory dock good poirot mystery confe...</td>\n",
              "      <td>pos</td>\n",
              "      <td>[hickory, dickory, dock, good, poirot, mystery...</td>\n",
              "      <td>[hickory, dickory, dock, good, poirot, mystery...</td>\n",
              "      <td>hickory dickory dock good poirot mystery confe...</td>\n",
              "      <td>[-0.43618038, -0.026268344, 1.2634858, 0.07773...</td>\n",
              "    </tr>\n",
              "    <tr>\n",
              "      <th>404</th>\n",
              "      <td>scott bartletts offon nine minutes pure crazin...</td>\n",
              "      <td>pos</td>\n",
              "      <td>[scott, bartletts, offon, nine, minutes, pure,...</td>\n",
              "      <td>[scott, bartletts, offon, nine, minutes, pure,...</td>\n",
              "      <td>scott bartletts offon nine minutes pure crazin...</td>\n",
              "      <td>[-0.062393595, 0.7170986, 0.7451215, -0.708620...</td>\n",
              "    </tr>\n",
              "    <tr>\n",
              "      <th>11</th>\n",
              "      <td>robert taylor definitely showed fine dramatic ...</td>\n",
              "      <td>neg</td>\n",
              "      <td>[robert, taylor, definitely, showed, fine, dra...</td>\n",
              "      <td>[robert, taylor, definitely, showed, fine, dra...</td>\n",
              "      <td>robert taylor definitely showed fine dramatic ...</td>\n",
              "      <td>[0.15152526, 0.4524694, 0.6718438, -0.30145133...</td>\n",
              "    </tr>\n",
              "  </tbody>\n",
              "</table>\n",
              "</div>"
            ],
            "text/plain": [
              "                                               x_train y_train  \\\n",
              "281  burt kennedy used good director youd never kno...     neg   \n",
              "272  original book set wont tv series people watch ...     neg   \n",
              "593  hickory dickory dock good poirot mystery confe...     pos   \n",
              "404  scott bartletts offon nine minutes pure crazin...     pos   \n",
              "11   robert taylor definitely showed fine dramatic ...     neg   \n",
              "\n",
              "                                        x_train_tokens  \\\n",
              "281  [burt, kennedy, used, good, director, youd, ne...   \n",
              "272  [original, book, set, wont, tv, series, people...   \n",
              "593  [hickory, dickory, dock, good, poirot, mystery...   \n",
              "404  [scott, bartletts, offon, nine, minutes, pure,...   \n",
              "11   [robert, taylor, definitely, showed, fine, dra...   \n",
              "\n",
              "                                       x_train_cleaned  \\\n",
              "281  [burt, kennedy, used, good, director, youd, ne...   \n",
              "272  [original, book, set, wont, tv, series, people...   \n",
              "593  [hickory, dickory, dock, good, poirot, mystery...   \n",
              "404  [scott, bartletts, offon, nine, minutes, pure,...   \n",
              "11   [robert, taylor, definitely, showed, fine, dra...   \n",
              "\n",
              "                                         x_train_final  \\\n",
              "281  burt kennedy used good director youd never kno...   \n",
              "272  original book set wont tv series people watch ...   \n",
              "593  hickory dickory dock good poirot mystery confe...   \n",
              "404  scott bartletts offon nine minutes pure crazin...   \n",
              "11   robert taylor definitely showed fine dramatic ...   \n",
              "\n",
              "                                        x_train_vector  \n",
              "281  [0.15240386, 0.7326652, 0.44287255, 0.38291657...  \n",
              "272  [0.7885823, 0.020227723, 0.15656038, 0.0843183...  \n",
              "593  [-0.43618038, -0.026268344, 1.2634858, 0.07773...  \n",
              "404  [-0.062393595, 0.7170986, 0.7451215, -0.708620...  \n",
              "11   [0.15152526, 0.4524694, 0.6718438, -0.30145133...  "
            ]
          },
          "execution_count": 23,
          "metadata": {},
          "output_type": "execute_result"
        }
      ],
      "source": [
        "# dataframe cleaned + the vectorized column \n",
        "print(type(train_df[\"x_train_final\"][0]))\n",
        "print(train_df[\"x_train_final\"][0])\n",
        "train_df.head()"
      ]
    },
    {
      "attachments": {},
      "cell_type": "markdown",
      "metadata": {},
      "source": [
        "## Training the dataset and applying the classifiers"
      ]
    },
    {
      "cell_type": "code",
      "execution_count": 29,
      "metadata": {
        "colab": {
          "base_uri": "https://localhost:8080/"
        },
        "id": "2LwZAX3ijbt2",
        "outputId": "e6a41b12-4b95-41b7-e85a-d118e6e6c03f",
        "vscode": {
          "languageId": "python"
        }
      },
      "outputs": [
        {
          "name": "stdout",
          "output_type": "stream",
          "text": [
            "[LibSVM]*\n",
            "optimization finished, #iter = 269\n",
            "obj = -271.291272, rho = 0.374601\n",
            "nSV = 350, nBSV = 311\n",
            "Total nSV = 350\n",
            "Our accuracy is: 80.7947%\n"
          ]
        }
      ],
      "source": [
        "# Support Vector Machine (SVM) Classifer\n",
        "clf = SVC(gamma='auto', verbose=True) \n",
        "clf.fit(train_df[\"x_train_vector\"].to_list(),train_df[\"y_train\"].to_list())\n",
        "y_pred = clf.predict(test_df[\"x_test_vector\"].to_list())\n",
        "print(f'Our accuracy is: {np.round(accuracy_score(test_df[\"y_test\"].to_list(), y_pred)*100, decimals=4)}%')"
      ]
    },
    {
      "cell_type": "code",
      "execution_count": 30,
      "metadata": {
        "colab": {
          "base_uri": "https://localhost:8080/"
        },
        "id": "UT512gPYkJze",
        "outputId": "f82e4eab-eab2-4399-9d7f-e971587c2154",
        "vscode": {
          "languageId": "python"
        }
      },
      "outputs": [
        {
          "name": "stdout",
          "output_type": "stream",
          "text": [
            "Our accuracy is: 79.4702%\n"
          ]
        }
      ],
      "source": [
        "# RandomForest\n",
        "clf = RandomForestClassifier(max_depth=None, random_state=0)\n",
        "clf.fit(train_df[\"x_train_vector\"].to_list(),train_df[\"y_train\"].to_list())\n",
        "y_pred = clf.predict(test_df[\"x_test_vector\"].to_list())\n",
        "print(f'Our accuracy is: {np.round(accuracy_score(test_df[\"y_test\"].to_list(), y_pred)*100, decimals=4)}%')"
      ]
    },
    {
      "cell_type": "code",
      "execution_count": 31,
      "metadata": {
        "colab": {
          "base_uri": "https://localhost:8080/"
        },
        "id": "qppBijt_kMFc",
        "outputId": "40231278-ed01-444c-b25b-eac806691ace",
        "vscode": {
          "languageId": "python"
        }
      },
      "outputs": [
        {
          "name": "stdout",
          "output_type": "stream",
          "text": [
            "Our accuracy is: 78.1457%\n"
          ]
        }
      ],
      "source": [
        "# LogisticRegression\n",
        "clf = LogisticRegression(max_iter=5000)\n",
        "clf.fit(train_df[\"x_train_vector\"].to_list(),train_df[\"y_train\"].to_list())\n",
        "y_pred = clf.predict(test_df[\"x_test_vector\"].to_list())\n",
        "print(f'Our accuracy is: {np.round(accuracy_score(test_df[\"y_test\"].to_list(), y_pred)*100, decimals=4)}%')"
      ]
    },
    {
      "cell_type": "code",
      "execution_count": 32,
      "metadata": {
        "colab": {
          "base_uri": "https://localhost:8080/"
        },
        "id": "W7Mh8FhFkOph",
        "outputId": "b0615188-72ca-46b0-d0eb-1e118de4e538",
        "vscode": {
          "languageId": "python"
        }
      },
      "outputs": [
        {
          "name": "stdout",
          "output_type": "stream",
          "text": [
            "Our accuracy is: 80.1325%\n"
          ]
        }
      ],
      "source": [
        "# Naive Bayes\n",
        "clf = GaussianNB()\n",
        "clf.fit(train_df[\"x_train_vector\"].to_list(),train_df[\"y_train\"].to_list())\n",
        "y_pred = clf.predict(test_df[\"x_test_vector\"].to_list())\n",
        "print(f'Our accuracy is: {np.round(accuracy_score(test_df[\"y_test\"].to_list(), y_pred)*100, decimals=4)}%')"
      ]
    },
    {
      "cell_type": "code",
      "execution_count": 33,
      "metadata": {
        "colab": {
          "base_uri": "https://localhost:8080/"
        },
        "id": "bISI92iZlRxl",
        "outputId": "e0a29aca-5e58-4b60-d95f-85dba9b22310",
        "vscode": {
          "languageId": "python"
        }
      },
      "outputs": [
        {
          "name": "stdout",
          "output_type": "stream",
          "text": [
            "Our accuracy is: 68.8742%\n"
          ]
        }
      ],
      "source": [
        "# Decision Tree  \n",
        "clf = DecisionTreeClassifier()\n",
        "clf.fit(train_df[\"x_train_vector\"].to_list(),train_df[\"y_train\"].to_list())\n",
        "y_pred = clf.predict(test_df[\"x_test_vector\"].to_list())\n",
        "print(f'Our accuracy is: {np.round(accuracy_score(test_df[\"y_test\"].to_list(), y_pred)*100, decimals=4)}%')"
      ]
    },
    {
      "attachments": {},
      "cell_type": "markdown",
      "metadata": {},
      "source": [
        "## Results\n",
        "\n",
        "    We can tell that the best results were attained whe using the SVM classifier for we got 80.7947%, followed closely by the Naïve Bayes model at 80.1325%. \n",
        "\n",
        "    The classifier that scored the lowesr was Decision Tree, it could be because of the following reasons:\n",
        "\n",
        "    Overfitting: This occurs when the model is too complex and is able to fit the noise in the training data. This can cause the model to perform poorly on new, unseen data.\n",
        "\n",
        "    Underfitting: This occurs when the model is too simple and is not able to capture the underlying pattern in the data. This can also cause the model to perform poorly on new, unseen data.\n",
        "\n",
        "    Lack of enough data: Decision tree classifiers require a sufficient amount of data to make accurate predictions. If the dataset is too small, it may not be possible for the model to learn the underlying patterns in the data.\n",
        "\n",
        "    Hyperparameters are not optimised: Different decision tree algorithm have different parameter to set such as depth, max leaf node, min sample leaf. These parameters can have a great impact on the final model performance. So, it is important to optimize these parameters.\n",
        "\n",
        "    To improve the performance of the decision tree classifier, we can try several techniques such as cross-validation, regularization, and feature selection. "
      ]
    },
    {
      "attachments": {},
      "cell_type": "markdown",
      "metadata": {
        "id": "fdYVabvCr_6U"
      },
      "source": [
        "# Further work\n",
        "\n",
        "Further work can be accomplished to improve the model such as changing the encoder for the Naïve Bayes model (which I've tried using from sklearn.preprocessing import OneHotEncoder, but failed), using better state-of-the-art transformers and larger GPUs."
      ]
    }
  ],
  "metadata": {
    "colab": {
      "provenance": []
    },
    "kernelspec": {
      "display_name": "Python 3 (ipykernel)",
      "language": "python",
      "name": "python3"
    },
    "vscode": {
      "interpreter": {
        "hash": "916dbcbb3f70747c44a77c7bcd40155683ae19c65e1c03b4aa3499c5328201f1"
      }
    },
    "widgets": {
      "application/vnd.jupyter.widget-state+json": {
        "02f08df90d7944759d5333bcbd9de347": {
          "model_module": "@jupyter-widgets/base",
          "model_module_version": "1.2.0",
          "model_name": "LayoutModel",
          "state": {
            "_model_module": "@jupyter-widgets/base",
            "_model_module_version": "1.2.0",
            "_model_name": "LayoutModel",
            "_view_count": null,
            "_view_module": "@jupyter-widgets/base",
            "_view_module_version": "1.2.0",
            "_view_name": "LayoutView",
            "align_content": null,
            "align_items": null,
            "align_self": null,
            "border": null,
            "bottom": null,
            "display": null,
            "flex": null,
            "flex_flow": null,
            "grid_area": null,
            "grid_auto_columns": null,
            "grid_auto_flow": null,
            "grid_auto_rows": null,
            "grid_column": null,
            "grid_gap": null,
            "grid_row": null,
            "grid_template_areas": null,
            "grid_template_columns": null,
            "grid_template_rows": null,
            "height": null,
            "justify_content": null,
            "justify_items": null,
            "left": null,
            "margin": null,
            "max_height": null,
            "max_width": null,
            "min_height": null,
            "min_width": null,
            "object_fit": null,
            "object_position": null,
            "order": null,
            "overflow": null,
            "overflow_x": null,
            "overflow_y": null,
            "padding": null,
            "right": null,
            "top": null,
            "visibility": null,
            "width": null
          }
        },
        "0a0f334ab562407f9e0268fff72c2a8c": {
          "model_module": "@jupyter-widgets/controls",
          "model_module_version": "1.5.0",
          "model_name": "HTMLModel",
          "state": {
            "_dom_classes": [],
            "_model_module": "@jupyter-widgets/controls",
            "_model_module_version": "1.5.0",
            "_model_name": "HTMLModel",
            "_view_count": null,
            "_view_module": "@jupyter-widgets/controls",
            "_view_module_version": "1.5.0",
            "_view_name": "HTMLView",
            "description": "",
            "description_tooltip": null,
            "layout": "IPY_MODEL_bbd0ae5a1428497a8f2c6ff0809cb523",
            "placeholder": "​",
            "style": "IPY_MODEL_4afd96c46ba94b6696d95d9cddef69b1",
            "value": " 151/151 [00:32&lt;00:00,  5.20it/s]"
          }
        },
        "0abd8656147d4210984fa6943cdec016": {
          "model_module": "@jupyter-widgets/controls",
          "model_module_version": "1.5.0",
          "model_name": "FloatProgressModel",
          "state": {
            "_dom_classes": [],
            "_model_module": "@jupyter-widgets/controls",
            "_model_module_version": "1.5.0",
            "_model_name": "FloatProgressModel",
            "_view_count": null,
            "_view_module": "@jupyter-widgets/controls",
            "_view_module_version": "1.5.0",
            "_view_name": "ProgressView",
            "bar_style": "success",
            "description": "",
            "description_tooltip": null,
            "layout": "IPY_MODEL_42e575e9243d4cc684a0c09daafec26a",
            "max": 151,
            "min": 0,
            "orientation": "horizontal",
            "style": "IPY_MODEL_da8ef1af465b464984e7aed74e37ade8",
            "value": 151
          }
        },
        "0f4050bf5f634b3ba354485530185910": {
          "model_module": "@jupyter-widgets/controls",
          "model_module_version": "1.5.0",
          "model_name": "FloatProgressModel",
          "state": {
            "_dom_classes": [],
            "_model_module": "@jupyter-widgets/controls",
            "_model_module_version": "1.5.0",
            "_model_name": "FloatProgressModel",
            "_view_count": null,
            "_view_module": "@jupyter-widgets/controls",
            "_view_module_version": "1.5.0",
            "_view_name": "ProgressView",
            "bar_style": "success",
            "description": "",
            "description_tooltip": null,
            "layout": "IPY_MODEL_327eb4b210784f54959b98c230403c0e",
            "max": 151,
            "min": 0,
            "orientation": "horizontal",
            "style": "IPY_MODEL_ca677c1bfd4f4ecbbdd4559aef3aece0",
            "value": 151
          }
        },
        "217d4ae1e38749e78d0bb96f2464aa8d": {
          "model_module": "@jupyter-widgets/base",
          "model_module_version": "1.2.0",
          "model_name": "LayoutModel",
          "state": {
            "_model_module": "@jupyter-widgets/base",
            "_model_module_version": "1.2.0",
            "_model_name": "LayoutModel",
            "_view_count": null,
            "_view_module": "@jupyter-widgets/base",
            "_view_module_version": "1.2.0",
            "_view_name": "LayoutView",
            "align_content": null,
            "align_items": null,
            "align_self": null,
            "border": null,
            "bottom": null,
            "display": null,
            "flex": null,
            "flex_flow": null,
            "grid_area": null,
            "grid_auto_columns": null,
            "grid_auto_flow": null,
            "grid_auto_rows": null,
            "grid_column": null,
            "grid_gap": null,
            "grid_row": null,
            "grid_template_areas": null,
            "grid_template_columns": null,
            "grid_template_rows": null,
            "height": null,
            "justify_content": null,
            "justify_items": null,
            "left": null,
            "margin": null,
            "max_height": null,
            "max_width": null,
            "min_height": null,
            "min_width": null,
            "object_fit": null,
            "object_position": null,
            "order": null,
            "overflow": null,
            "overflow_x": null,
            "overflow_y": null,
            "padding": null,
            "right": null,
            "top": null,
            "visibility": null,
            "width": null
          }
        },
        "2240592eba804bef8113425345c3b1c6": {
          "model_module": "@jupyter-widgets/controls",
          "model_module_version": "1.5.0",
          "model_name": "DescriptionStyleModel",
          "state": {
            "_model_module": "@jupyter-widgets/controls",
            "_model_module_version": "1.5.0",
            "_model_name": "DescriptionStyleModel",
            "_view_count": null,
            "_view_module": "@jupyter-widgets/base",
            "_view_module_version": "1.2.0",
            "_view_name": "StyleView",
            "description_width": ""
          }
        },
        "2320a3e0fbaa47fc971447acd382ae4f": {
          "model_module": "@jupyter-widgets/base",
          "model_module_version": "1.2.0",
          "model_name": "LayoutModel",
          "state": {
            "_model_module": "@jupyter-widgets/base",
            "_model_module_version": "1.2.0",
            "_model_name": "LayoutModel",
            "_view_count": null,
            "_view_module": "@jupyter-widgets/base",
            "_view_module_version": "1.2.0",
            "_view_name": "LayoutView",
            "align_content": null,
            "align_items": null,
            "align_self": null,
            "border": null,
            "bottom": null,
            "display": null,
            "flex": null,
            "flex_flow": null,
            "grid_area": null,
            "grid_auto_columns": null,
            "grid_auto_flow": null,
            "grid_auto_rows": null,
            "grid_column": null,
            "grid_gap": null,
            "grid_row": null,
            "grid_template_areas": null,
            "grid_template_columns": null,
            "grid_template_rows": null,
            "height": null,
            "justify_content": null,
            "justify_items": null,
            "left": null,
            "margin": null,
            "max_height": null,
            "max_width": null,
            "min_height": null,
            "min_width": null,
            "object_fit": null,
            "object_position": null,
            "order": null,
            "overflow": null,
            "overflow_x": null,
            "overflow_y": null,
            "padding": null,
            "right": null,
            "top": null,
            "visibility": null,
            "width": null
          }
        },
        "2abd9566f3994dd7834806a3c1a3ff62": {
          "model_module": "@jupyter-widgets/base",
          "model_module_version": "1.2.0",
          "model_name": "LayoutModel",
          "state": {
            "_model_module": "@jupyter-widgets/base",
            "_model_module_version": "1.2.0",
            "_model_name": "LayoutModel",
            "_view_count": null,
            "_view_module": "@jupyter-widgets/base",
            "_view_module_version": "1.2.0",
            "_view_name": "LayoutView",
            "align_content": null,
            "align_items": null,
            "align_self": null,
            "border": null,
            "bottom": null,
            "display": null,
            "flex": null,
            "flex_flow": null,
            "grid_area": null,
            "grid_auto_columns": null,
            "grid_auto_flow": null,
            "grid_auto_rows": null,
            "grid_column": null,
            "grid_gap": null,
            "grid_row": null,
            "grid_template_areas": null,
            "grid_template_columns": null,
            "grid_template_rows": null,
            "height": null,
            "justify_content": null,
            "justify_items": null,
            "left": null,
            "margin": null,
            "max_height": null,
            "max_width": null,
            "min_height": null,
            "min_width": null,
            "object_fit": null,
            "object_position": null,
            "order": null,
            "overflow": null,
            "overflow_x": null,
            "overflow_y": null,
            "padding": null,
            "right": null,
            "top": null,
            "visibility": null,
            "width": null
          }
        },
        "327eb4b210784f54959b98c230403c0e": {
          "model_module": "@jupyter-widgets/base",
          "model_module_version": "1.2.0",
          "model_name": "LayoutModel",
          "state": {
            "_model_module": "@jupyter-widgets/base",
            "_model_module_version": "1.2.0",
            "_model_name": "LayoutModel",
            "_view_count": null,
            "_view_module": "@jupyter-widgets/base",
            "_view_module_version": "1.2.0",
            "_view_name": "LayoutView",
            "align_content": null,
            "align_items": null,
            "align_self": null,
            "border": null,
            "bottom": null,
            "display": null,
            "flex": null,
            "flex_flow": null,
            "grid_area": null,
            "grid_auto_columns": null,
            "grid_auto_flow": null,
            "grid_auto_rows": null,
            "grid_column": null,
            "grid_gap": null,
            "grid_row": null,
            "grid_template_areas": null,
            "grid_template_columns": null,
            "grid_template_rows": null,
            "height": null,
            "justify_content": null,
            "justify_items": null,
            "left": null,
            "margin": null,
            "max_height": null,
            "max_width": null,
            "min_height": null,
            "min_width": null,
            "object_fit": null,
            "object_position": null,
            "order": null,
            "overflow": null,
            "overflow_x": null,
            "overflow_y": null,
            "padding": null,
            "right": null,
            "top": null,
            "visibility": null,
            "width": null
          }
        },
        "3c1f1aaa8fd04cce91dd30997d238415": {
          "model_module": "@jupyter-widgets/controls",
          "model_module_version": "1.5.0",
          "model_name": "HTMLModel",
          "state": {
            "_dom_classes": [],
            "_model_module": "@jupyter-widgets/controls",
            "_model_module_version": "1.5.0",
            "_model_name": "HTMLModel",
            "_view_count": null,
            "_view_module": "@jupyter-widgets/controls",
            "_view_module_version": "1.5.0",
            "_view_name": "HTMLView",
            "description": "",
            "description_tooltip": null,
            "layout": "IPY_MODEL_52b2a5a8f32e4bea8e22af9233d68b05",
            "placeholder": "​",
            "style": "IPY_MODEL_f10fdf71eeaa4a6a98c91438c26a5d16",
            "value": "100%"
          }
        },
        "3fb4ab86f1444406a17d92471d795fe4": {
          "model_module": "@jupyter-widgets/controls",
          "model_module_version": "1.5.0",
          "model_name": "HTMLModel",
          "state": {
            "_dom_classes": [],
            "_model_module": "@jupyter-widgets/controls",
            "_model_module_version": "1.5.0",
            "_model_name": "HTMLModel",
            "_view_count": null,
            "_view_module": "@jupyter-widgets/controls",
            "_view_module_version": "1.5.0",
            "_view_name": "HTMLView",
            "description": "",
            "description_tooltip": null,
            "layout": "IPY_MODEL_217d4ae1e38749e78d0bb96f2464aa8d",
            "placeholder": "​",
            "style": "IPY_MODEL_49ff4cc13a0d4d0ea8dc3c5920719534",
            "value": " 151/151 [00:02&lt;00:00, 80.87it/s]"
          }
        },
        "3fc6afb4a43346628cfc251aa488a72e": {
          "model_module": "@jupyter-widgets/controls",
          "model_module_version": "1.5.0",
          "model_name": "HTMLModel",
          "state": {
            "_dom_classes": [],
            "_model_module": "@jupyter-widgets/controls",
            "_model_module_version": "1.5.0",
            "_model_name": "HTMLModel",
            "_view_count": null,
            "_view_module": "@jupyter-widgets/controls",
            "_view_module_version": "1.5.0",
            "_view_name": "HTMLView",
            "description": "",
            "description_tooltip": null,
            "layout": "IPY_MODEL_fb5e33be033a4e38ae28d747629f631f",
            "placeholder": "​",
            "style": "IPY_MODEL_74a2f96f087244969c0c63fd48670507",
            "value": "100%"
          }
        },
        "42e575e9243d4cc684a0c09daafec26a": {
          "model_module": "@jupyter-widgets/base",
          "model_module_version": "1.2.0",
          "model_name": "LayoutModel",
          "state": {
            "_model_module": "@jupyter-widgets/base",
            "_model_module_version": "1.2.0",
            "_model_name": "LayoutModel",
            "_view_count": null,
            "_view_module": "@jupyter-widgets/base",
            "_view_module_version": "1.2.0",
            "_view_name": "LayoutView",
            "align_content": null,
            "align_items": null,
            "align_self": null,
            "border": null,
            "bottom": null,
            "display": null,
            "flex": null,
            "flex_flow": null,
            "grid_area": null,
            "grid_auto_columns": null,
            "grid_auto_flow": null,
            "grid_auto_rows": null,
            "grid_column": null,
            "grid_gap": null,
            "grid_row": null,
            "grid_template_areas": null,
            "grid_template_columns": null,
            "grid_template_rows": null,
            "height": null,
            "justify_content": null,
            "justify_items": null,
            "left": null,
            "margin": null,
            "max_height": null,
            "max_width": null,
            "min_height": null,
            "min_width": null,
            "object_fit": null,
            "object_position": null,
            "order": null,
            "overflow": null,
            "overflow_x": null,
            "overflow_y": null,
            "padding": null,
            "right": null,
            "top": null,
            "visibility": null,
            "width": null
          }
        },
        "49ff4cc13a0d4d0ea8dc3c5920719534": {
          "model_module": "@jupyter-widgets/controls",
          "model_module_version": "1.5.0",
          "model_name": "DescriptionStyleModel",
          "state": {
            "_model_module": "@jupyter-widgets/controls",
            "_model_module_version": "1.5.0",
            "_model_name": "DescriptionStyleModel",
            "_view_count": null,
            "_view_module": "@jupyter-widgets/base",
            "_view_module_version": "1.2.0",
            "_view_name": "StyleView",
            "description_width": ""
          }
        },
        "4afd96c46ba94b6696d95d9cddef69b1": {
          "model_module": "@jupyter-widgets/controls",
          "model_module_version": "1.5.0",
          "model_name": "DescriptionStyleModel",
          "state": {
            "_model_module": "@jupyter-widgets/controls",
            "_model_module_version": "1.5.0",
            "_model_name": "DescriptionStyleModel",
            "_view_count": null,
            "_view_module": "@jupyter-widgets/base",
            "_view_module_version": "1.2.0",
            "_view_name": "StyleView",
            "description_width": ""
          }
        },
        "52b2a5a8f32e4bea8e22af9233d68b05": {
          "model_module": "@jupyter-widgets/base",
          "model_module_version": "1.2.0",
          "model_name": "LayoutModel",
          "state": {
            "_model_module": "@jupyter-widgets/base",
            "_model_module_version": "1.2.0",
            "_model_name": "LayoutModel",
            "_view_count": null,
            "_view_module": "@jupyter-widgets/base",
            "_view_module_version": "1.2.0",
            "_view_name": "LayoutView",
            "align_content": null,
            "align_items": null,
            "align_self": null,
            "border": null,
            "bottom": null,
            "display": null,
            "flex": null,
            "flex_flow": null,
            "grid_area": null,
            "grid_auto_columns": null,
            "grid_auto_flow": null,
            "grid_auto_rows": null,
            "grid_column": null,
            "grid_gap": null,
            "grid_row": null,
            "grid_template_areas": null,
            "grid_template_columns": null,
            "grid_template_rows": null,
            "height": null,
            "justify_content": null,
            "justify_items": null,
            "left": null,
            "margin": null,
            "max_height": null,
            "max_width": null,
            "min_height": null,
            "min_width": null,
            "object_fit": null,
            "object_position": null,
            "order": null,
            "overflow": null,
            "overflow_x": null,
            "overflow_y": null,
            "padding": null,
            "right": null,
            "top": null,
            "visibility": null,
            "width": null
          }
        },
        "60164298d0084edabfeaca6ab9e82e16": {
          "model_module": "@jupyter-widgets/base",
          "model_module_version": "1.2.0",
          "model_name": "LayoutModel",
          "state": {
            "_model_module": "@jupyter-widgets/base",
            "_model_module_version": "1.2.0",
            "_model_name": "LayoutModel",
            "_view_count": null,
            "_view_module": "@jupyter-widgets/base",
            "_view_module_version": "1.2.0",
            "_view_name": "LayoutView",
            "align_content": null,
            "align_items": null,
            "align_self": null,
            "border": null,
            "bottom": null,
            "display": null,
            "flex": null,
            "flex_flow": null,
            "grid_area": null,
            "grid_auto_columns": null,
            "grid_auto_flow": null,
            "grid_auto_rows": null,
            "grid_column": null,
            "grid_gap": null,
            "grid_row": null,
            "grid_template_areas": null,
            "grid_template_columns": null,
            "grid_template_rows": null,
            "height": null,
            "justify_content": null,
            "justify_items": null,
            "left": null,
            "margin": null,
            "max_height": null,
            "max_width": null,
            "min_height": null,
            "min_width": null,
            "object_fit": null,
            "object_position": null,
            "order": null,
            "overflow": null,
            "overflow_x": null,
            "overflow_y": null,
            "padding": null,
            "right": null,
            "top": null,
            "visibility": null,
            "width": null
          }
        },
        "6baa08657c3741a59e89dac1d472c685": {
          "model_module": "@jupyter-widgets/controls",
          "model_module_version": "1.5.0",
          "model_name": "FloatProgressModel",
          "state": {
            "_dom_classes": [],
            "_model_module": "@jupyter-widgets/controls",
            "_model_module_version": "1.5.0",
            "_model_name": "FloatProgressModel",
            "_view_count": null,
            "_view_module": "@jupyter-widgets/controls",
            "_view_module_version": "1.5.0",
            "_view_name": "ProgressView",
            "bar_style": "success",
            "description": "",
            "description_tooltip": null,
            "layout": "IPY_MODEL_2320a3e0fbaa47fc971447acd382ae4f",
            "max": 451,
            "min": 0,
            "orientation": "horizontal",
            "style": "IPY_MODEL_ad58dd1599484f848f825489677a7d27",
            "value": 451
          }
        },
        "70a6120ae4794ad4a4a7207fc69e9817": {
          "model_module": "@jupyter-widgets/base",
          "model_module_version": "1.2.0",
          "model_name": "LayoutModel",
          "state": {
            "_model_module": "@jupyter-widgets/base",
            "_model_module_version": "1.2.0",
            "_model_name": "LayoutModel",
            "_view_count": null,
            "_view_module": "@jupyter-widgets/base",
            "_view_module_version": "1.2.0",
            "_view_name": "LayoutView",
            "align_content": null,
            "align_items": null,
            "align_self": null,
            "border": null,
            "bottom": null,
            "display": null,
            "flex": null,
            "flex_flow": null,
            "grid_area": null,
            "grid_auto_columns": null,
            "grid_auto_flow": null,
            "grid_auto_rows": null,
            "grid_column": null,
            "grid_gap": null,
            "grid_row": null,
            "grid_template_areas": null,
            "grid_template_columns": null,
            "grid_template_rows": null,
            "height": null,
            "justify_content": null,
            "justify_items": null,
            "left": null,
            "margin": null,
            "max_height": null,
            "max_width": null,
            "min_height": null,
            "min_width": null,
            "object_fit": null,
            "object_position": null,
            "order": null,
            "overflow": null,
            "overflow_x": null,
            "overflow_y": null,
            "padding": null,
            "right": null,
            "top": null,
            "visibility": null,
            "width": null
          }
        },
        "716f26991bea406388424d683cfea415": {
          "model_module": "@jupyter-widgets/controls",
          "model_module_version": "1.5.0",
          "model_name": "HBoxModel",
          "state": {
            "_dom_classes": [],
            "_model_module": "@jupyter-widgets/controls",
            "_model_module_version": "1.5.0",
            "_model_name": "HBoxModel",
            "_view_count": null,
            "_view_module": "@jupyter-widgets/controls",
            "_view_module_version": "1.5.0",
            "_view_name": "HBoxView",
            "box_style": "",
            "children": [
              "IPY_MODEL_3fc6afb4a43346628cfc251aa488a72e",
              "IPY_MODEL_0f4050bf5f634b3ba354485530185910",
              "IPY_MODEL_0a0f334ab562407f9e0268fff72c2a8c"
            ],
            "layout": "IPY_MODEL_70a6120ae4794ad4a4a7207fc69e9817"
          }
        },
        "74a2f96f087244969c0c63fd48670507": {
          "model_module": "@jupyter-widgets/controls",
          "model_module_version": "1.5.0",
          "model_name": "DescriptionStyleModel",
          "state": {
            "_model_module": "@jupyter-widgets/controls",
            "_model_module_version": "1.5.0",
            "_model_name": "DescriptionStyleModel",
            "_view_count": null,
            "_view_module": "@jupyter-widgets/base",
            "_view_module_version": "1.2.0",
            "_view_name": "StyleView",
            "description_width": ""
          }
        },
        "79a83f25ae464abdaed0c3524220036c": {
          "model_module": "@jupyter-widgets/controls",
          "model_module_version": "1.5.0",
          "model_name": "HTMLModel",
          "state": {
            "_dom_classes": [],
            "_model_module": "@jupyter-widgets/controls",
            "_model_module_version": "1.5.0",
            "_model_name": "HTMLModel",
            "_view_count": null,
            "_view_module": "@jupyter-widgets/controls",
            "_view_module_version": "1.5.0",
            "_view_name": "HTMLView",
            "description": "",
            "description_tooltip": null,
            "layout": "IPY_MODEL_02f08df90d7944759d5333bcbd9de347",
            "placeholder": "​",
            "style": "IPY_MODEL_da228e275d7a46dbbd98893327f3375b",
            "value": " 451/451 [01:57&lt;00:00,  4.21it/s]"
          }
        },
        "7ba22cdc479c4933ba28a7965511441e": {
          "model_module": "@jupyter-widgets/controls",
          "model_module_version": "1.5.0",
          "model_name": "HBoxModel",
          "state": {
            "_dom_classes": [],
            "_model_module": "@jupyter-widgets/controls",
            "_model_module_version": "1.5.0",
            "_model_name": "HBoxModel",
            "_view_count": null,
            "_view_module": "@jupyter-widgets/controls",
            "_view_module_version": "1.5.0",
            "_view_name": "HBoxView",
            "box_style": "",
            "children": [
              "IPY_MODEL_af6c1eb4602b44f09576333ea169e7a2",
              "IPY_MODEL_a7d9fb846f83489da8569a3d298104c5",
              "IPY_MODEL_79a83f25ae464abdaed0c3524220036c"
            ],
            "layout": "IPY_MODEL_b4fb4bd6a6394a1c8aa35ad0426a1508"
          }
        },
        "80f07c0624ab47d7bf12ee88beb23c97": {
          "model_module": "@jupyter-widgets/controls",
          "model_module_version": "1.5.0",
          "model_name": "HTMLModel",
          "state": {
            "_dom_classes": [],
            "_model_module": "@jupyter-widgets/controls",
            "_model_module_version": "1.5.0",
            "_model_name": "HTMLModel",
            "_view_count": null,
            "_view_module": "@jupyter-widgets/controls",
            "_view_module_version": "1.5.0",
            "_view_name": "HTMLView",
            "description": "",
            "description_tooltip": null,
            "layout": "IPY_MODEL_60164298d0084edabfeaca6ab9e82e16",
            "placeholder": "​",
            "style": "IPY_MODEL_2240592eba804bef8113425345c3b1c6",
            "value": " 451/451 [00:06&lt;00:00, 69.31it/s]"
          }
        },
        "810ae464206c4d2cb9d51bf37ab0ed87": {
          "model_module": "@jupyter-widgets/controls",
          "model_module_version": "1.5.0",
          "model_name": "HBoxModel",
          "state": {
            "_dom_classes": [],
            "_model_module": "@jupyter-widgets/controls",
            "_model_module_version": "1.5.0",
            "_model_name": "HBoxModel",
            "_view_count": null,
            "_view_module": "@jupyter-widgets/controls",
            "_view_module_version": "1.5.0",
            "_view_name": "HBoxView",
            "box_style": "",
            "children": [
              "IPY_MODEL_f8c9315014d44043a326eb1d63d129b2",
              "IPY_MODEL_0abd8656147d4210984fa6943cdec016",
              "IPY_MODEL_3fb4ab86f1444406a17d92471d795fe4"
            ],
            "layout": "IPY_MODEL_2abd9566f3994dd7834806a3c1a3ff62"
          }
        },
        "861807698a9a47ee8a283ce0270d8f8a": {
          "model_module": "@jupyter-widgets/controls",
          "model_module_version": "1.5.0",
          "model_name": "HBoxModel",
          "state": {
            "_dom_classes": [],
            "_model_module": "@jupyter-widgets/controls",
            "_model_module_version": "1.5.0",
            "_model_name": "HBoxModel",
            "_view_count": null,
            "_view_module": "@jupyter-widgets/controls",
            "_view_module_version": "1.5.0",
            "_view_name": "HBoxView",
            "box_style": "",
            "children": [
              "IPY_MODEL_3c1f1aaa8fd04cce91dd30997d238415",
              "IPY_MODEL_6baa08657c3741a59e89dac1d472c685",
              "IPY_MODEL_80f07c0624ab47d7bf12ee88beb23c97"
            ],
            "layout": "IPY_MODEL_ee451f3869154ed7a3350c998424693d"
          }
        },
        "8aa26373878b4b1ca0698ffb8b6f5361": {
          "model_module": "@jupyter-widgets/base",
          "model_module_version": "1.2.0",
          "model_name": "LayoutModel",
          "state": {
            "_model_module": "@jupyter-widgets/base",
            "_model_module_version": "1.2.0",
            "_model_name": "LayoutModel",
            "_view_count": null,
            "_view_module": "@jupyter-widgets/base",
            "_view_module_version": "1.2.0",
            "_view_name": "LayoutView",
            "align_content": null,
            "align_items": null,
            "align_self": null,
            "border": null,
            "bottom": null,
            "display": null,
            "flex": null,
            "flex_flow": null,
            "grid_area": null,
            "grid_auto_columns": null,
            "grid_auto_flow": null,
            "grid_auto_rows": null,
            "grid_column": null,
            "grid_gap": null,
            "grid_row": null,
            "grid_template_areas": null,
            "grid_template_columns": null,
            "grid_template_rows": null,
            "height": null,
            "justify_content": null,
            "justify_items": null,
            "left": null,
            "margin": null,
            "max_height": null,
            "max_width": null,
            "min_height": null,
            "min_width": null,
            "object_fit": null,
            "object_position": null,
            "order": null,
            "overflow": null,
            "overflow_x": null,
            "overflow_y": null,
            "padding": null,
            "right": null,
            "top": null,
            "visibility": null,
            "width": null
          }
        },
        "8b5c4001811a478997eff9ae6915491e": {
          "model_module": "@jupyter-widgets/controls",
          "model_module_version": "1.5.0",
          "model_name": "DescriptionStyleModel",
          "state": {
            "_model_module": "@jupyter-widgets/controls",
            "_model_module_version": "1.5.0",
            "_model_name": "DescriptionStyleModel",
            "_view_count": null,
            "_view_module": "@jupyter-widgets/base",
            "_view_module_version": "1.2.0",
            "_view_name": "StyleView",
            "description_width": ""
          }
        },
        "8d08afec17c04df59899caf442753d54": {
          "model_module": "@jupyter-widgets/base",
          "model_module_version": "1.2.0",
          "model_name": "LayoutModel",
          "state": {
            "_model_module": "@jupyter-widgets/base",
            "_model_module_version": "1.2.0",
            "_model_name": "LayoutModel",
            "_view_count": null,
            "_view_module": "@jupyter-widgets/base",
            "_view_module_version": "1.2.0",
            "_view_name": "LayoutView",
            "align_content": null,
            "align_items": null,
            "align_self": null,
            "border": null,
            "bottom": null,
            "display": null,
            "flex": null,
            "flex_flow": null,
            "grid_area": null,
            "grid_auto_columns": null,
            "grid_auto_flow": null,
            "grid_auto_rows": null,
            "grid_column": null,
            "grid_gap": null,
            "grid_row": null,
            "grid_template_areas": null,
            "grid_template_columns": null,
            "grid_template_rows": null,
            "height": null,
            "justify_content": null,
            "justify_items": null,
            "left": null,
            "margin": null,
            "max_height": null,
            "max_width": null,
            "min_height": null,
            "min_width": null,
            "object_fit": null,
            "object_position": null,
            "order": null,
            "overflow": null,
            "overflow_x": null,
            "overflow_y": null,
            "padding": null,
            "right": null,
            "top": null,
            "visibility": null,
            "width": null
          }
        },
        "8ef311c9fa904bd58979fd2cd9f70c06": {
          "model_module": "@jupyter-widgets/controls",
          "model_module_version": "1.5.0",
          "model_name": "DescriptionStyleModel",
          "state": {
            "_model_module": "@jupyter-widgets/controls",
            "_model_module_version": "1.5.0",
            "_model_name": "DescriptionStyleModel",
            "_view_count": null,
            "_view_module": "@jupyter-widgets/base",
            "_view_module_version": "1.2.0",
            "_view_name": "StyleView",
            "description_width": ""
          }
        },
        "a7d9fb846f83489da8569a3d298104c5": {
          "model_module": "@jupyter-widgets/controls",
          "model_module_version": "1.5.0",
          "model_name": "FloatProgressModel",
          "state": {
            "_dom_classes": [],
            "_model_module": "@jupyter-widgets/controls",
            "_model_module_version": "1.5.0",
            "_model_name": "FloatProgressModel",
            "_view_count": null,
            "_view_module": "@jupyter-widgets/controls",
            "_view_module_version": "1.5.0",
            "_view_name": "ProgressView",
            "bar_style": "success",
            "description": "",
            "description_tooltip": null,
            "layout": "IPY_MODEL_8d08afec17c04df59899caf442753d54",
            "max": 451,
            "min": 0,
            "orientation": "horizontal",
            "style": "IPY_MODEL_e4ab3c459cee4dd49ca16bbe2c77a492",
            "value": 451
          }
        },
        "ad58dd1599484f848f825489677a7d27": {
          "model_module": "@jupyter-widgets/controls",
          "model_module_version": "1.5.0",
          "model_name": "ProgressStyleModel",
          "state": {
            "_model_module": "@jupyter-widgets/controls",
            "_model_module_version": "1.5.0",
            "_model_name": "ProgressStyleModel",
            "_view_count": null,
            "_view_module": "@jupyter-widgets/base",
            "_view_module_version": "1.2.0",
            "_view_name": "StyleView",
            "bar_color": null,
            "description_width": ""
          }
        },
        "af6c1eb4602b44f09576333ea169e7a2": {
          "model_module": "@jupyter-widgets/controls",
          "model_module_version": "1.5.0",
          "model_name": "HTMLModel",
          "state": {
            "_dom_classes": [],
            "_model_module": "@jupyter-widgets/controls",
            "_model_module_version": "1.5.0",
            "_model_name": "HTMLModel",
            "_view_count": null,
            "_view_module": "@jupyter-widgets/controls",
            "_view_module_version": "1.5.0",
            "_view_name": "HTMLView",
            "description": "",
            "description_tooltip": null,
            "layout": "IPY_MODEL_bf704802858a4e59b891e91fdbe2eb59",
            "placeholder": "​",
            "style": "IPY_MODEL_8ef311c9fa904bd58979fd2cd9f70c06",
            "value": "100%"
          }
        },
        "b4fb4bd6a6394a1c8aa35ad0426a1508": {
          "model_module": "@jupyter-widgets/base",
          "model_module_version": "1.2.0",
          "model_name": "LayoutModel",
          "state": {
            "_model_module": "@jupyter-widgets/base",
            "_model_module_version": "1.2.0",
            "_model_name": "LayoutModel",
            "_view_count": null,
            "_view_module": "@jupyter-widgets/base",
            "_view_module_version": "1.2.0",
            "_view_name": "LayoutView",
            "align_content": null,
            "align_items": null,
            "align_self": null,
            "border": null,
            "bottom": null,
            "display": null,
            "flex": null,
            "flex_flow": null,
            "grid_area": null,
            "grid_auto_columns": null,
            "grid_auto_flow": null,
            "grid_auto_rows": null,
            "grid_column": null,
            "grid_gap": null,
            "grid_row": null,
            "grid_template_areas": null,
            "grid_template_columns": null,
            "grid_template_rows": null,
            "height": null,
            "justify_content": null,
            "justify_items": null,
            "left": null,
            "margin": null,
            "max_height": null,
            "max_width": null,
            "min_height": null,
            "min_width": null,
            "object_fit": null,
            "object_position": null,
            "order": null,
            "overflow": null,
            "overflow_x": null,
            "overflow_y": null,
            "padding": null,
            "right": null,
            "top": null,
            "visibility": null,
            "width": null
          }
        },
        "bbd0ae5a1428497a8f2c6ff0809cb523": {
          "model_module": "@jupyter-widgets/base",
          "model_module_version": "1.2.0",
          "model_name": "LayoutModel",
          "state": {
            "_model_module": "@jupyter-widgets/base",
            "_model_module_version": "1.2.0",
            "_model_name": "LayoutModel",
            "_view_count": null,
            "_view_module": "@jupyter-widgets/base",
            "_view_module_version": "1.2.0",
            "_view_name": "LayoutView",
            "align_content": null,
            "align_items": null,
            "align_self": null,
            "border": null,
            "bottom": null,
            "display": null,
            "flex": null,
            "flex_flow": null,
            "grid_area": null,
            "grid_auto_columns": null,
            "grid_auto_flow": null,
            "grid_auto_rows": null,
            "grid_column": null,
            "grid_gap": null,
            "grid_row": null,
            "grid_template_areas": null,
            "grid_template_columns": null,
            "grid_template_rows": null,
            "height": null,
            "justify_content": null,
            "justify_items": null,
            "left": null,
            "margin": null,
            "max_height": null,
            "max_width": null,
            "min_height": null,
            "min_width": null,
            "object_fit": null,
            "object_position": null,
            "order": null,
            "overflow": null,
            "overflow_x": null,
            "overflow_y": null,
            "padding": null,
            "right": null,
            "top": null,
            "visibility": null,
            "width": null
          }
        },
        "bf704802858a4e59b891e91fdbe2eb59": {
          "model_module": "@jupyter-widgets/base",
          "model_module_version": "1.2.0",
          "model_name": "LayoutModel",
          "state": {
            "_model_module": "@jupyter-widgets/base",
            "_model_module_version": "1.2.0",
            "_model_name": "LayoutModel",
            "_view_count": null,
            "_view_module": "@jupyter-widgets/base",
            "_view_module_version": "1.2.0",
            "_view_name": "LayoutView",
            "align_content": null,
            "align_items": null,
            "align_self": null,
            "border": null,
            "bottom": null,
            "display": null,
            "flex": null,
            "flex_flow": null,
            "grid_area": null,
            "grid_auto_columns": null,
            "grid_auto_flow": null,
            "grid_auto_rows": null,
            "grid_column": null,
            "grid_gap": null,
            "grid_row": null,
            "grid_template_areas": null,
            "grid_template_columns": null,
            "grid_template_rows": null,
            "height": null,
            "justify_content": null,
            "justify_items": null,
            "left": null,
            "margin": null,
            "max_height": null,
            "max_width": null,
            "min_height": null,
            "min_width": null,
            "object_fit": null,
            "object_position": null,
            "order": null,
            "overflow": null,
            "overflow_x": null,
            "overflow_y": null,
            "padding": null,
            "right": null,
            "top": null,
            "visibility": null,
            "width": null
          }
        },
        "ca677c1bfd4f4ecbbdd4559aef3aece0": {
          "model_module": "@jupyter-widgets/controls",
          "model_module_version": "1.5.0",
          "model_name": "ProgressStyleModel",
          "state": {
            "_model_module": "@jupyter-widgets/controls",
            "_model_module_version": "1.5.0",
            "_model_name": "ProgressStyleModel",
            "_view_count": null,
            "_view_module": "@jupyter-widgets/base",
            "_view_module_version": "1.2.0",
            "_view_name": "StyleView",
            "bar_color": null,
            "description_width": ""
          }
        },
        "da228e275d7a46dbbd98893327f3375b": {
          "model_module": "@jupyter-widgets/controls",
          "model_module_version": "1.5.0",
          "model_name": "DescriptionStyleModel",
          "state": {
            "_model_module": "@jupyter-widgets/controls",
            "_model_module_version": "1.5.0",
            "_model_name": "DescriptionStyleModel",
            "_view_count": null,
            "_view_module": "@jupyter-widgets/base",
            "_view_module_version": "1.2.0",
            "_view_name": "StyleView",
            "description_width": ""
          }
        },
        "da8ef1af465b464984e7aed74e37ade8": {
          "model_module": "@jupyter-widgets/controls",
          "model_module_version": "1.5.0",
          "model_name": "ProgressStyleModel",
          "state": {
            "_model_module": "@jupyter-widgets/controls",
            "_model_module_version": "1.5.0",
            "_model_name": "ProgressStyleModel",
            "_view_count": null,
            "_view_module": "@jupyter-widgets/base",
            "_view_module_version": "1.2.0",
            "_view_name": "StyleView",
            "bar_color": null,
            "description_width": ""
          }
        },
        "e4ab3c459cee4dd49ca16bbe2c77a492": {
          "model_module": "@jupyter-widgets/controls",
          "model_module_version": "1.5.0",
          "model_name": "ProgressStyleModel",
          "state": {
            "_model_module": "@jupyter-widgets/controls",
            "_model_module_version": "1.5.0",
            "_model_name": "ProgressStyleModel",
            "_view_count": null,
            "_view_module": "@jupyter-widgets/base",
            "_view_module_version": "1.2.0",
            "_view_name": "StyleView",
            "bar_color": null,
            "description_width": ""
          }
        },
        "ee451f3869154ed7a3350c998424693d": {
          "model_module": "@jupyter-widgets/base",
          "model_module_version": "1.2.0",
          "model_name": "LayoutModel",
          "state": {
            "_model_module": "@jupyter-widgets/base",
            "_model_module_version": "1.2.0",
            "_model_name": "LayoutModel",
            "_view_count": null,
            "_view_module": "@jupyter-widgets/base",
            "_view_module_version": "1.2.0",
            "_view_name": "LayoutView",
            "align_content": null,
            "align_items": null,
            "align_self": null,
            "border": null,
            "bottom": null,
            "display": null,
            "flex": null,
            "flex_flow": null,
            "grid_area": null,
            "grid_auto_columns": null,
            "grid_auto_flow": null,
            "grid_auto_rows": null,
            "grid_column": null,
            "grid_gap": null,
            "grid_row": null,
            "grid_template_areas": null,
            "grid_template_columns": null,
            "grid_template_rows": null,
            "height": null,
            "justify_content": null,
            "justify_items": null,
            "left": null,
            "margin": null,
            "max_height": null,
            "max_width": null,
            "min_height": null,
            "min_width": null,
            "object_fit": null,
            "object_position": null,
            "order": null,
            "overflow": null,
            "overflow_x": null,
            "overflow_y": null,
            "padding": null,
            "right": null,
            "top": null,
            "visibility": null,
            "width": null
          }
        },
        "f10fdf71eeaa4a6a98c91438c26a5d16": {
          "model_module": "@jupyter-widgets/controls",
          "model_module_version": "1.5.0",
          "model_name": "DescriptionStyleModel",
          "state": {
            "_model_module": "@jupyter-widgets/controls",
            "_model_module_version": "1.5.0",
            "_model_name": "DescriptionStyleModel",
            "_view_count": null,
            "_view_module": "@jupyter-widgets/base",
            "_view_module_version": "1.2.0",
            "_view_name": "StyleView",
            "description_width": ""
          }
        },
        "f8c9315014d44043a326eb1d63d129b2": {
          "model_module": "@jupyter-widgets/controls",
          "model_module_version": "1.5.0",
          "model_name": "HTMLModel",
          "state": {
            "_dom_classes": [],
            "_model_module": "@jupyter-widgets/controls",
            "_model_module_version": "1.5.0",
            "_model_name": "HTMLModel",
            "_view_count": null,
            "_view_module": "@jupyter-widgets/controls",
            "_view_module_version": "1.5.0",
            "_view_name": "HTMLView",
            "description": "",
            "description_tooltip": null,
            "layout": "IPY_MODEL_8aa26373878b4b1ca0698ffb8b6f5361",
            "placeholder": "​",
            "style": "IPY_MODEL_8b5c4001811a478997eff9ae6915491e",
            "value": "100%"
          }
        },
        "fb5e33be033a4e38ae28d747629f631f": {
          "model_module": "@jupyter-widgets/base",
          "model_module_version": "1.2.0",
          "model_name": "LayoutModel",
          "state": {
            "_model_module": "@jupyter-widgets/base",
            "_model_module_version": "1.2.0",
            "_model_name": "LayoutModel",
            "_view_count": null,
            "_view_module": "@jupyter-widgets/base",
            "_view_module_version": "1.2.0",
            "_view_name": "LayoutView",
            "align_content": null,
            "align_items": null,
            "align_self": null,
            "border": null,
            "bottom": null,
            "display": null,
            "flex": null,
            "flex_flow": null,
            "grid_area": null,
            "grid_auto_columns": null,
            "grid_auto_flow": null,
            "grid_auto_rows": null,
            "grid_column": null,
            "grid_gap": null,
            "grid_row": null,
            "grid_template_areas": null,
            "grid_template_columns": null,
            "grid_template_rows": null,
            "height": null,
            "justify_content": null,
            "justify_items": null,
            "left": null,
            "margin": null,
            "max_height": null,
            "max_width": null,
            "min_height": null,
            "min_width": null,
            "object_fit": null,
            "object_position": null,
            "order": null,
            "overflow": null,
            "overflow_x": null,
            "overflow_y": null,
            "padding": null,
            "right": null,
            "top": null,
            "visibility": null,
            "width": null
          }
        }
      }
    }
  },
  "nbformat": 4,
  "nbformat_minor": 0
}
